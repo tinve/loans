{
 "cells": [
  {
   "cell_type": "code",
   "execution_count": 2,
   "metadata": {},
   "outputs": [],
   "source": [
    "from __future__ import division\n",
    "\n",
    "import pandas as pd\n",
    "import numpy as np\n",
    "import matplotlib.pyplot as plt\n",
    "import seaborn as sns\n",
    "\n",
    "%matplotlib inline"
   ]
  },
  {
   "cell_type": "markdown",
   "metadata": {},
   "source": [
    "Load data and rename columns for quicker access. Column `start` shows how many days ago the loan was made (origination), column `end` shows how many days have passed between taking the loan and stopping payment (charge-off). `NaN` in the `end` column means that the debtor keeps paying."
   ]
  },
  {
   "cell_type": "code",
   "execution_count": 4,
   "metadata": {},
   "outputs": [
    {
     "name": "stdout",
     "output_type": "stream",
     "text": [
      "<class 'pandas.core.frame.DataFrame'>\n",
      "RangeIndex: 50000 entries, 0 to 49999\n",
      "Data columns (total 2 columns):\n",
      "start    50000 non-null int64\n",
      "end      3305 non-null float64\n",
      "dtypes: float64(1), int64(1)\n",
      "memory usage: 781.3 KB\n"
     ]
    }
   ],
   "source": [
    "df = pd.read_csv('loan_timing.csv')\n",
    "df.rename(columns = {'days since origination' : 'start',\n",
    "                     'days from origination to chargeoff' : 'end'}, inplace=True)\n",
    "# df.sort_values(by = ['start', 'end'], inplace=True)\n",
    "\n",
    "df.info()"
   ]
  },
  {
   "cell_type": "markdown",
   "metadata": {},
   "source": [
    "Of 50000 loans only 3305 have been charged off (stopped paying).\n",
    "\n",
    "The oldest loan is 730 days old:"
   ]
  },
  {
   "cell_type": "code",
   "execution_count": 3,
   "metadata": {},
   "outputs": [
    {
     "data": {
      "text/plain": [
       "730"
      ]
     },
     "execution_count": 3,
     "metadata": {},
     "output_type": "execute_result"
    }
   ],
   "source": [
    "df['start'].max()"
   ]
  },
  {
   "cell_type": "markdown",
   "metadata": {},
   "source": [
    "The longest time between origination and charging off the loan is:"
   ]
  },
  {
   "cell_type": "code",
   "execution_count": 4,
   "metadata": {},
   "outputs": [
    {
     "data": {
      "text/plain": [
       "725.0"
      ]
     },
     "execution_count": 4,
     "metadata": {},
     "output_type": "execute_result"
    }
   ],
   "source": [
    "df['end'].max()"
   ]
  },
  {
   "cell_type": "markdown",
   "metadata": {},
   "source": [
    "Here I encounter the first potential problem. Three years has 365*3 = 1095 days, but we only have data going back 730 days. I will address this problem later, but for now I will focus on charge-offs that happen within 730 days since origination.\n",
    "\n",
    "Naive approach is to take the oldest loans (originating on the day 730) and find how many of them were charged off within 730 days range:"
   ]
  },
  {
   "cell_type": "code",
   "execution_count": 8,
   "metadata": {},
   "outputs": [
    {
     "data": {
      "text/plain": [
       "start    71\n",
       "end      10\n",
       "dtype: int64"
      ]
     },
     "execution_count": 8,
     "metadata": {},
     "output_type": "execute_result"
    }
   ],
   "source": [
    "df[df['start']==730].count()"
   ]
  },
  {
   "cell_type": "markdown",
   "metadata": {},
   "source": [
    "10 out of 71, i.e about 14%.\n",
    "\n",
    "What about charge-offs between 730 and 1095 day? To estimate those, I would have to plot distribution of the charge-offs over the day since origination and extrapolate it from [0, 730] to [730, 1095] range.\n",
    "\n",
    "Ideally, I would expect something like this:"
   ]
  },
  {
   "cell_type": "code",
   "execution_count": 9,
   "metadata": {},
   "outputs": [
    {
     "data": {
      "image/png": "[encoded data removed]",
      "text/plain": [
       "<matplotlib.figure.Figure at 0x7f0022209550>"
      ]
     },
     "metadata": {},
     "output_type": "display_data"
    }
   ],
   "source": [
    "x = np.linspace(0, 730, 100)\n",
    "def f(x): return 100/(0.05*x+20) + 2 # arbitrary function just for illustration\n",
    "y = f(x)\n",
    "x_e = np.linspace(730, 1095, 50)\n",
    "y_e = f(x_e)\n",
    "plt.plot(x, y, lw=5)\n",
    "plt.plot(x_e, y_e, lw=3, ls=':')\n",
    "plt.axvline(x=730, color='grey', alpha=0.5)\n",
    "plt.ylim(0, 8)\n",
    "plt.yticks([])\n",
    "plt.xlim((0, 1095))\n",
    "plt.show()"
   ]
  },
  {
   "cell_type": "markdown",
   "metadata": {},
   "source": [
    "Blue line shows distribution of charge-off times over the first 730 days of the loan. Vertical scale (values not shown) indicates how many charge-offs happen on each day of the loan between day 0 and 730. Sum of those values (i.e. area under the curve) shows how many loans were charged off in total within the first 730 days.\n",
    "\n",
    "Orange line shows my extrapolation of the blue distribution to [730, 1045] range. If I now take the area uner the extended curve (both blue and red), I will get the number of loans, charged off within three years. Dividing this number by total number of loans originating on the earliest (730th) day in the dataset, I would find desired fraction.\n",
    "\n",
    "Assuming **that loaners behavior pattern does not change with time**, i.e. that we expect the same charge-off times distribution for the loans originating 5 days ago as for loans originating 730 days ago, I can report this fraction as an expectation fraction for all loans in the dataset.\n",
    "\n",
    "This method is straightforward, but for it to work we need enough 730-days-old data to plot nice and smooth distribution that can be extrapolated like in the picture above. In practice, that is not the case:"
   ]
  },
  {
   "cell_type": "code",
   "execution_count": 10,
   "metadata": {},
   "outputs": [
    {
     "data": {
      "image/png": "[encoded data removed]",
      "text/plain": [
       "<matplotlib.figure.Figure at 0x7f002225e3d0>"
      ]
     },
     "metadata": {},
     "output_type": "display_data"
    }
   ],
   "source": [
    "plt.hist(df[(df['start']==730) & (df['end'].notna())]['end'], alpha=0.5)\n",
    "plt.axvline(x=730, color='grey', alpha=0.5)\n",
    "plt.xlim((0, 1095))\n",
    "plt.show()"
   ]
  },
  {
   "cell_type": "markdown",
   "metadata": {},
   "source": [
    "Histogram is all rugged and overall shape is impossible to infer. With only 71 of 730-days-old loans and only 10 of them charged off, that was expected.\n",
    "\n",
    "What can I do to use more data, rather than just 71 records?\n",
    "\n",
    "First of all, I can look at the data that originates not just exactly 730 days ago, but within some range, say 730 to 700 days:"
   ]
  },
  {
   "cell_type": "code",
   "execution_count": 11,
   "metadata": {},
   "outputs": [
    {
     "data": {
      "image/png": "[encoded data removed]",
      "text/plain": [
       "<matplotlib.figure.Figure at 0x7f0058050a10>"
      ]
     },
     "metadata": {},
     "output_type": "display_data"
    }
   ],
   "source": [
    "plt.hist(df[(df['start']>700) & (df['end'].notna())]['end'], alpha=0.5)\n",
    "plt.axvline(x=730, color='grey', alpha=0.5)\n",
    "plt.xlim((0, 1095))\n",
    "plt.show()"
   ]
  },
  {
   "cell_type": "markdown",
   "metadata": {},
   "source": [
    "That looks more promising already. The outline of the histogram resembles a smooth distribution that can be extrapolated to [730, 1045] range. Again, we would have to integrate the extrapolated curve (or sum heights of all bins in extrapolated histogram) and divide that number by total number of loans originating before day 700.\n",
    "\n",
    "Still a lot of data remains unused - all of the loans younger that 700 days, for example. What information can I extract from them? If I focus on the loans originating between, say, day 530 and 500, what would I see? I can still apply the same method as before, plotting a distribution of charge-off dates. Only this time instead of being cut off at day 730, it will be cut off at day 530, because we only have obserations from 530 days for that subset of data. Just like before, I can try to extrapolate the distribution from available range [0, 530] to unavailable range [530, 1045] and perform numerical integration.\n",
    "\n",
    "In fact, I can split all of my data into bins by their origination data - oldest loans, somewhat less old loans, less old loans etc. up to the newest loans in the set. I then can plot distribution of charge-off day for each of those bins:"
   ]
  },
  {
   "cell_type": "code",
   "execution_count": 12,
   "metadata": {},
   "outputs": [
    {
     "data": {
      "image/png": "[encoded data removed]",
      "text/plain": [
       "<matplotlib.figure.Figure at 0x7f00327af5d0>"
      ]
     },
     "metadata": {},
     "output_type": "display_data"
    }
   ],
   "source": [
    "num_bins = 30\n",
    "\n",
    "bins = np.linspace(0, df['start'].max(), num_bins+1)\n",
    "df['bin'] = np.digitize(df['start'], bins[1:], right=True)\n",
    "\n",
    "num_plots = 3\n",
    "if num_plots:\n",
    "    for b in range(num_bins)[::-int(num_bins/num_plots)]:\n",
    "        plt.hist(df[(df['bin']==b) & (df['end'].notna())]['end'], bins=bins,\n",
    "                 alpha=0.5, label='bin '+str(b))\n",
    "    plt.legend()\n",
    "    plt.show()"
   ]
  },
  {
   "cell_type": "markdown",
   "metadata": {},
   "source": [
    "In the picture above, I have split the data into 30 bins. The histograms show distribution of charge-off dates within each bin (I only use 3 rather than all 30 to make the plot less busy). We can see that these histograms represent more or less the same distribution of charge-off dates, but are cut-off by different thresholds: the oldes bin 29 has a cutoff at day 730, the newer bin 19 has a cut-off at day 487 and the bin 9 is cut off at day 243. This means that we have observed loans from bin 29 for 730 days, loans from bin 19 - for 487 days and loans from bin 9 - for only 243 days.\n",
    "\n",
    "What happens if we sum all 30 of such histograms, including 27 that weren't shown in the plot above? Than we will just get a distribution of charge-off dates over the entire data set:"
   ]
  },
  {
   "cell_type": "code",
   "execution_count": 15,
   "metadata": {},
   "outputs": [
    {
     "data": {
      "image/png": "[encoded data removed]",
      "text/plain": [
       "<matplotlib.figure.Figure at 0x7f001ffd7450>"
      ]
     },
     "metadata": {},
     "output_type": "display_data"
    }
   ],
   "source": [
    "plt.hist(df[df['end'].notna()]['end'], bins=bins)\n",
    "plt.show()"
   ]
  },
  {
   "cell_type": "markdown",
   "metadata": {},
   "source": [
    "The reason that we cannot just find an area under this histogram and claim it's a total number of charge-offs is exactly that difference in observation times: some loans we have observed for a long time, while some loans are relatively fresh.\n",
    "\n",
    "How do we reconstruct the shape of our desired distribution from the skewed distribution above? Like I said, this skewed distribution is a sum of truncated distributions within each bin. Left side of the skewed distribution has contributions from all 30 bins, while the rightmost part only has contribution from a single oldest bin. To properly rescale the skewed histogram, I take into account how many bins contribute to each interval of it.\n",
    "\n",
    "By the way, this is a good place to compare sizes of our bins. Do we have more old loans than new ones or vce versa? If that is the case, I have to take into account not just the number of contributing bins, but also their sizes."
   ]
  },
  {
   "cell_type": "code",
   "execution_count": 448,
   "metadata": {},
   "outputs": [
    {
     "data": {
      "image/png": "[encoded data removed]",
      "text/plain": [
       "<matplotlib.figure.Figure at 0x7fa50b7d4ad0>"
      ]
     },
     "metadata": {},
     "output_type": "display_data"
    }
   ],
   "source": [
    "plt.hist(df['start'], bins=bins)\n",
    "plt.show()"
   ]
  },
  {
   "cell_type": "markdown",
   "metadata": {},
   "source": [
    "Looks good, all of the bins are of approximately the same size! That makes scaling much easier. And here is the result of scaling:"
   ]
  },
  {
   "cell_type": "code",
   "execution_count": 449,
   "metadata": {},
   "outputs": [
    {
     "data": {
      "image/png": "[encoded data removed]",
      "text/plain": [
       "<matplotlib.figure.Figure at 0x7fa50c432450>"
      ]
     },
     "metadata": {},
     "output_type": "display_data"
    }
   ],
   "source": [
    "heights, bases, _ = plt.hist(df[df['end'].notna()]['end'], bins=bins)\n",
    "heights_scaled = [num_bins * h / (num_bins - i) for i, h in enumerate(heights)]\n",
    "plt.step(bases, [heights_scaled[0]] + heights_scaled)\n",
    "plt.show()"
   ]
  },
  {
   "cell_type": "markdown",
   "metadata": {},
   "source": [
    "The orange line represents the scaled histogram. In the beginning I chose 30 bins. That number is more or less arbitrary. When it is too small, bins are too wide and we might have inaccurate values at the edge of the bins. When it is too large, the histogram and its envelope function are too noisy. You can adjust `num_bins` value and see the effects yourself.\n",
    "\n",
    "Now, the sum of all bar heights of the scaled orange histogram represents estimated number of the loans from the data set that will be charged-off within 730 days from origination. That number is:"
   ]
  },
  {
   "cell_type": "code",
   "execution_count": 450,
   "metadata": {},
   "outputs": [
    {
     "data": {
      "text/plain": [
       "5638"
      ]
     },
     "execution_count": 450,
     "metadata": {},
     "output_type": "execute_result"
    }
   ],
   "source": [
    "area = int(np.sum(heights_scaled))\n",
    "area"
   ]
  },
  {
   "cell_type": "markdown",
   "metadata": {},
   "source": [
    "Now I have to extrapolate the scaled histogram envelope (blue line below) into grey area [730, 1096] on the right and find the area underneath it."
   ]
  },
  {
   "cell_type": "code",
   "execution_count": 451,
   "metadata": {},
   "outputs": [
    {
     "data": {
      "image/png": "[encoded data removed]",
      "text/plain": [
       "<matplotlib.figure.Figure at 0x7fa50aae3790>"
      ]
     },
     "metadata": {},
     "output_type": "display_data"
    }
   ],
   "source": [
    "count_estimate = 75\n",
    "\n",
    "plt.plot(bases[1:] - bins[1]/2, heights_scaled)\n",
    "plt.axvspan(xmin = df['start'].max(), xmax=365*3, color='gray', alpha=0.3)\n",
    "plt.plot((730, 1095), (count_estimate, count_estimate))\n",
    "plt.xlim((0, 365*3))\n",
    "plt.ylim((0, 300))\n",
    "plt.show()"
   ]
  },
  {
   "cell_type": "markdown",
   "metadata": {},
   "source": [
    "I am not going to plot my extrapolation, but I can estimate its average distance from axis x. Let's say it's about 75, like the distance between axis x and an orage line above. To find extrapolated histogram area, I should multiply by the number of bins between 730 and 1095. Total number is:"
   ]
  },
  {
   "cell_type": "code",
   "execution_count": 452,
   "metadata": {},
   "outputs": [
    {
     "data": {
      "text/plain": [
       "970"
      ]
     },
     "execution_count": 452,
     "metadata": {},
     "output_type": "execute_result"
    }
   ],
   "source": [
    "area_e = int(count_estimate * (1045 - 730) / bins[1])\n",
    "area_e"
   ]
  },
  {
   "cell_type": "markdown",
   "metadata": {},
   "source": [
    "Total estimated fraction of the charge-offs:"
   ]
  },
  {
   "cell_type": "code",
   "execution_count": 453,
   "metadata": {},
   "outputs": [
    {
     "name": "stdout",
     "output_type": "stream",
     "text": [
      "13.2%\n"
     ]
    }
   ],
   "source": [
    "print '{:.1f}%'.format(100 * upt(area + area_e) / len(df))"
   ]
  },
  {
   "cell_type": "markdown",
   "metadata": {},
   "source": [
    "Follow-up ideas: rerun the script with different number of bins and on different bootstrapped sets of data to estimate confidence interval of the fraction."
   ]
  },
  {
   "cell_type": "code",
   "execution_count": null,
   "metadata": {},
   "outputs": [],
   "source": []
  }
 ],
 "metadata": {
  "kernelspec": {
   "display_name": "Python 2",
   "language": "python",
   "name": "python2"
  },
  "language_info": {
   "codemirror_mode": {
    "name": "ipython",
    "version": 2
   },
   "file_extension": ".py",
   "mimetype": "text/x-python",
   "name": "python",
   "nbconvert_exporter": "python",
   "pygments_lexer": "ipython2",
   "version": "2.7.12"
  }
 },
 "nbformat": 4,
 "nbformat_minor": 2
}
